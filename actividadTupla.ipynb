{
 "cells": [
  {
   "cell_type": "markdown",
   "id": "6b249b9a",
   "metadata": {},
   "source": [
    "# Actividad Tupla(Sesion 4)"
   ]
  },
  {
   "cell_type": "code",
   "execution_count": 1,
   "id": "dca0105d",
   "metadata": {},
   "outputs": [],
   "source": [
    "#Creación de una Tupla con 5 valores"
   ]
  },
  {
   "cell_type": "code",
   "execution_count": null,
   "id": "57e211c8",
   "metadata": {},
   "outputs": [],
   "source": [
    "#Crear una lista para insertar en una Tupla"
   ]
  },
  {
   "cell_type": "code",
   "execution_count": 2,
   "id": "76a3a0b4",
   "metadata": {},
   "outputs": [],
   "source": [
    "x = [8,9]"
   ]
  },
  {
   "cell_type": "code",
   "execution_count": 6,
   "id": "06678492",
   "metadata": {},
   "outputs": [
    {
     "data": {
      "text/plain": [
       "list"
      ]
     },
     "execution_count": 6,
     "metadata": {},
     "output_type": "execute_result"
    }
   ],
   "source": [
    "type(x)"
   ]
  },
  {
   "cell_type": "code",
   "execution_count": 7,
   "id": "04c43bab",
   "metadata": {},
   "outputs": [],
   "source": [
    "#Insertar la lista en la tupla y agregar 3 valores diferentes"
   ]
  },
  {
   "cell_type": "code",
   "execution_count": 8,
   "id": "da023e4e",
   "metadata": {},
   "outputs": [],
   "source": [
    "tupla1 = (x,\"Mi primer Tupla\",\"Miguel Espinosa\", 8.9)"
   ]
  },
  {
   "cell_type": "code",
   "execution_count": 9,
   "id": "dc7da5b6",
   "metadata": {},
   "outputs": [],
   "source": [
    "#Validar que sea de tipo Tupla"
   ]
  },
  {
   "cell_type": "code",
   "execution_count": 10,
   "id": "ec10e428",
   "metadata": {},
   "outputs": [
    {
     "data": {
      "text/plain": [
       "tuple"
      ]
     },
     "execution_count": 10,
     "metadata": {},
     "output_type": "execute_result"
    }
   ],
   "source": [
    "type(tupla1)"
   ]
  },
  {
   "cell_type": "code",
   "execution_count": 11,
   "id": "297dd5ab",
   "metadata": {},
   "outputs": [],
   "source": [
    "#Convertiremos la tupla a una lista"
   ]
  },
  {
   "cell_type": "code",
   "execution_count": 12,
   "id": "0e4cb43d",
   "metadata": {},
   "outputs": [],
   "source": [
    "listaTupla = list(tupla1)"
   ]
  },
  {
   "cell_type": "code",
   "execution_count": 13,
   "id": "d46c14cf",
   "metadata": {},
   "outputs": [],
   "source": [
    "#Validamos el tipo de estructura de la variable listaTupla"
   ]
  },
  {
   "cell_type": "code",
   "execution_count": 14,
   "id": "281a6057",
   "metadata": {},
   "outputs": [
    {
     "data": {
      "text/plain": [
       "list"
      ]
     },
     "execution_count": 14,
     "metadata": {},
     "output_type": "execute_result"
    }
   ],
   "source": [
    "type(listaTupla)"
   ]
  },
  {
   "cell_type": "code",
   "execution_count": 15,
   "id": "1e9f7005",
   "metadata": {},
   "outputs": [],
   "source": [
    "#Crear un diccionario donde la clave sea del 1 al 5 y los elementos los datos de la lista"
   ]
  },
  {
   "cell_type": "code",
   "execution_count": 16,
   "id": "af246e8e",
   "metadata": {},
   "outputs": [],
   "source": [
    "#Crear lista de numeros"
   ]
  },
  {
   "cell_type": "code",
   "execution_count": 17,
   "id": "ccd2903c",
   "metadata": {},
   "outputs": [],
   "source": [
    "listaNumeros = [1,2,3,4,5]"
   ]
  },
  {
   "cell_type": "code",
   "execution_count": 18,
   "id": "531517e0",
   "metadata": {},
   "outputs": [],
   "source": [
    "#Crear el diccionario"
   ]
  },
  {
   "cell_type": "code",
   "execution_count": 22,
   "id": "07d53f42",
   "metadata": {},
   "outputs": [],
   "source": [
    "diccionarioLista = {listaNumeros:listaTupla for (listaNumeros,listaTupla) in zip(listaNumeros,listaTupla)}"
   ]
  },
  {
   "cell_type": "code",
   "execution_count": 24,
   "id": "54985a0d",
   "metadata": {},
   "outputs": [],
   "source": [
    "#Se iteran ambos listados para usar como clave la listaNumeros y como dato la listaTupla"
   ]
  },
  {
   "cell_type": "code",
   "execution_count": 23,
   "id": "a4d21059",
   "metadata": {},
   "outputs": [
    {
     "data": {
      "text/plain": [
       "{1: [8, 9], 2: 'Mi primer Tupla', 3: 'Miguel Espinosa', 4: 8.9}"
      ]
     },
     "execution_count": 23,
     "metadata": {},
     "output_type": "execute_result"
    }
   ],
   "source": [
    "diccionarioLista"
   ]
  },
  {
   "cell_type": "code",
   "execution_count": 25,
   "id": "76e431c2",
   "metadata": {},
   "outputs": [],
   "source": [
    "diccionarioLis = {listaNumeros[0] : listaTupla[0] , listaNumeros[1] : listaTupla[1]}"
   ]
  },
  {
   "cell_type": "code",
   "execution_count": 26,
   "id": "6d27b916",
   "metadata": {},
   "outputs": [
    {
     "data": {
      "text/plain": [
       "{1: [8, 9], 2: 'Mi primer Tupla'}"
      ]
     },
     "execution_count": 26,
     "metadata": {},
     "output_type": "execute_result"
    }
   ],
   "source": [
    "diccionarioLis"
   ]
  },
  {
   "cell_type": "code",
   "execution_count": null,
   "id": "8b474661",
   "metadata": {},
   "outputs": [],
   "source": []
  }
 ],
 "metadata": {
  "kernelspec": {
   "display_name": "Python 3",
   "language": "python",
   "name": "python3"
  },
  "language_info": {
   "codemirror_mode": {
    "name": "ipython",
    "version": 3
   },
   "file_extension": ".py",
   "mimetype": "text/x-python",
   "name": "python",
   "nbconvert_exporter": "python",
   "pygments_lexer": "ipython3",
   "version": "3.6.13"
  }
 },
 "nbformat": 4,
 "nbformat_minor": 5
}

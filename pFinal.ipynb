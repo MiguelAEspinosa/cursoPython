{
 "cells": [
  {
   "cell_type": "code",
   "execution_count": null,
   "id": "1c3bdccf",
   "metadata": {},
   "outputs": [],
   "source": [
    "#Nomenclatura y definiciones \n",
    "# MM - Mando Medio =supervisores de rutas\n",
    "# ReglaNegocio = Cantidad de visitas a clientes o acompañamiento a ruta que se deben realizar como base al mes\n",
    "\n",
    "import pandas as pd\n",
    "import numpy as np\n",
    "import matplotlib.pyplot as plt\n",
    "\n",
    "class ModeloVisita:\n",
    "    \"\"\"Clase que representa a un modelo de visita\"\"\"\n",
    "    \n",
    "    key = \"routeSchedule\"  # Clientes/Rutas = [routeSchedule] | MandoMedio = [employee] \n",
    "    mes = \"Agosto\"\n",
    "    reglaNegocio = 8\n",
    "    tipoVisita   = 4   #   4.-Acompañamiento ruta | 35.-Visita  a cliente\n",
    "    tipoAnalisis = 1   #   1.- valorAnalizado < reglaNegocio |  valorAnalizado >= reglaNegocio \n",
    "                       #   2.- valorAnalizado(MM) < reglaNegocio | valorAnalizado(MM) >= reglaNegocio\n",
    "    \n",
    "    \n",
    "    #Constructor\n",
    "    #def __init__ (self, key, mes, reglaNegocio , tipoVisita, tipoAnalisis):\n",
    "    #def __init__ (self):\n",
    "        #self.key = key\n",
    "        #self.mes = mes \n",
    "        #self.reglaNegocio = reglaNegocio\n",
    "        #self.tipoVisita = tipoVisita\n",
    "        #self.tipoAnalisis = tipoAnalisis\n",
    "        \n",
    "    \n",
    "    #checar si podemos dejar la ruta en c:\n",
    "    def cargarArchivo(self):\n",
    "        return pd.read_csv(\"C:\\\\Users\\\\mespinosa\\\\Documents\\\\pythonFundamental\\\\schedules\" + str(self.tipoVisita) + self.mes + \".csv\")\n",
    "    \n",
    "    \n",
    "    def analizar(self, data):\n",
    "        #Menos visitas\n",
    "        \n",
    "        dataGraficaBarrasMenor = data[data[\"idSchedul\"] < int(self.reglaNegocio) ]\n",
    "    \n",
    "        #Mayor o igual a las visitas\n",
    "        \n",
    "        dataGraficaBarrasMayor = data[data[\"idSchedul\"] >= int(self.reglaNegocio) ]\n",
    "        \n",
    "        \n",
    "    #***************Imprimir la grafica*************************    \n",
    "        if dataGraficaBarrasMayor.shape[0] > 0:  #si el dataframe tiene rows \n",
    "            #data.set_index('routeSchedule',inplace=True)\n",
    "            print(\"Rutas que Cumplieron la regla de negocio\")\n",
    "            print(dataGraficaBarrasMayor)\n",
    "            dataGraficaBarrasMayor.to_csv('Cumplieron'+str(self.tipoVisita) + str(self.mes) + str(self.tipoAnalisis) '.csv', header = True,index = True)\n",
    "            dataGraficaBarrasMayor[\"idSchedul\"].plot(kind='bar')\n",
    "            plt.show()\n",
    "            #plt.plot(data[\"idSchedul\"])\n",
    "            \n",
    "            \n",
    "            #Grafica de pie con porcentajes\n",
    "            totalRutas = data.shape[0]  #Total de rutas/clientes analizados\n",
    "\n",
    "            #Cumplen con el criterio\n",
    "            Cumplieron = dataGraficaBarrasMayor.shape[0] #Cantidad de rutas que cumplieron en el paso anterior\n",
    "            \n",
    "            #No cumplen\n",
    "            No_cumplieron = totalRutas - Cumplieron\n",
    "            \n",
    "            \n",
    "            \n",
    "            diccionario = {\n",
    "                            \"Titulos\":[\"Cumplieron\",\"No_cumplieron\"],\n",
    "                            \"Totales\" : [Cumplieron,No_cumplieron]\n",
    "            }\n",
    "            \n",
    "            datosPie= pd.DataFrame(diccionario)\n",
    "            print(\"Porcentaje de rutas\")\n",
    "            datosPie[\"Totales\"].plot.pie(figsize=(10,10) ,labels=[\"Cumplieron\",\"No_cumplieron\"],autopct=\"%0.5f\" )\n",
    "            plt.show()\n",
    "            \n",
    "        else:\n",
    "            print(\"No se encontraron datos para analizar\")\n",
    "        \n",
    "        if dataGraficaBarrasMenor.shape[0] > 0:\n",
    "            print(\"Fragmento de rutas que no cumplieron la regla de negocio\")\n",
    "            print(dataGraficaBarrasMenor)\n",
    "            dataFiltrado = dataGraficaBarrasMenor.sort_values(by='idSchedul').head()\n",
    "            dataFiltrado[\"idSchedul\"].plot(kind='bar')\n",
    "            plt.show()\n",
    "            dataGraficaBarrasMenor.to_csv('noCumplieron'+str(self.tipoVisita) + str(self.mes) + str(self.tipoAnalisis) +'.csv', header = True,index = True)\n",
    "            "
   ]
  },
  {
   "cell_type": "code",
   "execution_count": 15,
   "id": "eb5a5f22",
   "metadata": {},
   "outputs": [],
   "source": [
    "#Funciones para carga de menu\n",
    "\n",
    "def cargarMenu():\n",
    "        opcion = int(input(\"\"\"Ingrese la opcion a analizar:\n",
    "        4-.Acompañamientos\n",
    "        35.-Visita  a cliente\n",
    "        0 - Salir\\n \"\"\"))\n",
    "        \n",
    "        #Falta validacion de opcion incorrecta aqui\n",
    "        if opcion != 0:\n",
    "            mes = input(\"Ingrese el mes a analizar\")\n",
    "            regla = int(input(\"Ingrese la regla de negocio\\n\"))\n",
    "            return opcion, mes, regla\n",
    "        \n",
    "        return opcion,\"\",\"\"\n",
    "\n",
    "\n",
    "def subMenu():\n",
    "# hay que hacer una validacion para opcion invalida    \n",
    "    \n",
    "    print(\"Seleccione la opcion a analizar\")\n",
    "    return int(input(\"\"\"1.- Rutas/clientes\n",
    "2.- Mando Medio\\n\"\"\"))"
   ]
  },
  {
   "cell_type": "code",
   "execution_count": null,
   "id": "799a0649",
   "metadata": {},
   "outputs": [
    {
     "name": "stdout",
     "output_type": "stream",
     "text": [
      "Ingrese la opcion a analizar:\n",
      "        4-.Acompañamientos\n",
      "        35.-Visita  a cliente\n",
      "        0 - Salir\n",
      " 4\n",
      "Ingrese el mes a analizarAgosto\n",
      "Ingrese la regla de negocio\n",
      "10\n",
      "Seleccione la opcion a analizar\n",
      "1.- Rutas/clientes\n",
      "2.- Mando Medio\n",
      "1\n",
      "tipoAnalisis 1\n",
      "mes Agosto\n",
      "reglaNegocio 10\n",
      "tipoVisita 4\n",
      "key routeSchedule\n",
      "Rutas que Cumplieron la regla de negocio\n",
      "               idSchedul\n",
      "routeSchedule           \n",
      "402686                16\n",
      "404313                10\n",
      "407700                10\n",
      "406914                10\n"
     ]
    },
    {
     "data": {
      "image/png": "[encoded data removed]",
      "text/plain": [
       "<Figure size 432x288 with 1 Axes>"
      ]
     },
     "metadata": {
      "needs_background": "light"
     },
     "output_type": "display_data"
    },
    {
     "name": "stdout",
     "output_type": "stream",
     "text": [
      "Porcentaje de rutas\n"
     ]
    },
    {
     "data": {
      "image/png": "[encoded data removed]",
      "text/plain": [
       "<Figure size 720x720 with 1 Axes>"
      ]
     },
     "metadata": {},
     "output_type": "display_data"
    },
    {
     "name": "stdout",
     "output_type": "stream",
     "text": [
      "Fragmento de rutas que no cumplieron la regla de negocio\n",
      "               idSchedul\n",
      "routeSchedule           \n",
      "405910                 9\n",
      "406139                 9\n",
      "405015                 9\n",
      "415031                 8\n",
      "415007                 8\n",
      "...                  ...\n",
      "403431                 1\n",
      "403332                 1\n",
      "403331                 1\n",
      "408487                 1\n",
      "400002                 1\n",
      "\n",
      "[2034 rows x 1 columns]\n"
     ]
    },
    {
     "data": {
      "image/png": "[encoded data removed]",
      "text/plain": [
       "<Figure size 432x288 with 1 Axes>"
      ]
     },
     "metadata": {
      "needs_background": "light"
     },
     "output_type": "display_data"
    }
   ],
   "source": [
    "#**********************************************************************************************\n",
    "#****************************Logica del programa principal*************************************\n",
    "#**********************************************************************************************\n",
    "Salir=\"\"\n",
    "\n",
    "while(Salir!=0):\n",
    "    \n",
    "    #creamos una nueva instancia de la clase para iniciar el analisis\n",
    "    ModeloV = ModeloVisita()\n",
    "    \n",
    "    #seleccionamos las opciones a analizar\n",
    "    optionSelected, mesSelected, regla = cargarMenu()\n",
    "    \n",
    "    if optionSelected == 0:\n",
    "        Salir=0\n",
    "        break\n",
    "    \n",
    "    elif optionSelected != 4 and optionSelected != 35:\n",
    "        print(\"Opcion incorrecta, por favor verifique!\")\n",
    "    \n",
    "    else:\n",
    "        #Iniciamos flujo de analisis normal\n",
    "    \n",
    "        #Seleccionamos el tipo de analisis\n",
    "        ModeloV.tipoAnalisis = subMenu()\n",
    "\n",
    "        #Completamos el resto de parametros de la clase\n",
    "        ModeloV.mes = mesSelected\n",
    "        ModeloV.reglaNegocio = regla\n",
    "        ModeloV.tipoVisita = optionSelected\n",
    "        \n",
    "        print(\"tipoAnalisis\",ModeloV.tipoAnalisis )\n",
    "        print(\"mes\",ModeloV.mes )\n",
    "        print(\"reglaNegocio\",ModeloV.reglaNegocio )\n",
    "        print(\"tipoVisita\",ModeloV.tipoVisita )\n",
    "        print(\"key\",ModeloV.key )\n",
    "\n",
    "        #Cargamos el archivo con los datos\n",
    "        datos = ModeloV.cargarArchivo()\n",
    "\n",
    "        if ModeloV.tipoAnalisis < 2 : #Analisis de visita por ruta/cliente (tipoAnalisis 1)\n",
    "            if ModeloV.tipoVisita == 4:\n",
    "                ModeloV.key = \"routeSchedule\"\n",
    "            else:\n",
    "                ModeloV.key = \"customer\"\n",
    "        else:\n",
    "            ModeloV.key = \"employee\"\n",
    "            \n",
    "        datosEspecificos = datos[[ModeloV.key, \"idSchedul\",]]\n",
    "\n",
    "        datosFinales = datosEspecificos.groupby([ModeloV.key],as_index=True).count().sort_values(by='idSchedul',ascending=False)\n",
    "            \n",
    "        #Analisis final\n",
    "        ModeloV.analizar(datosFinales)"
   ]
  },
  {
   "cell_type": "code",
   "execution_count": null,
   "id": "42b1c667",
   "metadata": {},
   "outputs": [],
   "source": []
  }
 ],
 "metadata": {
  "kernelspec": {
   "display_name": "Python 3",
   "language": "python",
   "name": "python3"
  },
  "language_info": {
   "codemirror_mode": {
    "name": "ipython",
    "version": 3
   },
   "file_extension": ".py",
   "mimetype": "text/x-python",
   "name": "python",
   "nbconvert_exporter": "python",
   "pygments_lexer": "ipython3",
   "version": "3.6.13"
  }
 },
 "nbformat": 4,
 "nbformat_minor": 5
}

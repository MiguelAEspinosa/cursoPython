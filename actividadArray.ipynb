{
 "cells": [
  {
   "cell_type": "code",
   "execution_count": 2,
   "id": "e59ef006",
   "metadata": {},
   "outputs": [],
   "source": [
    "import numpy as np"
   ]
  },
  {
   "cell_type": "code",
   "execution_count": 5,
   "id": "d747ed41",
   "metadata": {},
   "outputs": [],
   "source": [
    "#Crear Arreglo de 3 a mi edad\n",
    "matrizEdad = np.array(range(3,29))"
   ]
  },
  {
   "cell_type": "code",
   "execution_count": 6,
   "id": "292c5477",
   "metadata": {},
   "outputs": [
    {
     "data": {
      "text/plain": [
       "array([ 3,  4,  5,  6,  7,  8,  9, 10, 11, 12, 13, 14, 15, 16, 17, 18, 19,\n",
       "       20, 21, 22, 23, 24, 25, 26, 27, 28])"
      ]
     },
     "execution_count": 6,
     "metadata": {},
     "output_type": "execute_result"
    }
   ],
   "source": [
    "matrizEdad"
   ]
  },
  {
   "cell_type": "code",
   "execution_count": 16,
   "id": "50bd7819",
   "metadata": {},
   "outputs": [],
   "source": [
    "#Crear Arreglo de 0 a 4\n",
    "matrizNumeros = np.array(range(0,5))"
   ]
  },
  {
   "cell_type": "code",
   "execution_count": 8,
   "id": "7dfc438d",
   "metadata": {},
   "outputs": [],
   "source": [
    "#Crear Arreglo Junto\n",
    "matrizNumerosJuntos = np.append(matrizNumeros,matrizNumeros)"
   ]
  },
  {
   "cell_type": "code",
   "execution_count": 9,
   "id": "1e8f5181",
   "metadata": {},
   "outputs": [
    {
     "data": {
      "text/plain": [
       "array([0, 1, 2, 3, 4, 0, 1, 2, 3, 4])"
      ]
     },
     "execution_count": 9,
     "metadata": {},
     "output_type": "execute_result"
    }
   ],
   "source": [
    "matrizNumerosJuntos"
   ]
  },
  {
   "cell_type": "code",
   "execution_count": 15,
   "id": "2f9313b3",
   "metadata": {},
   "outputs": [
    {
     "data": {
      "text/plain": [
       "array([0, 0, 1, 1, 2, 2, 3, 3, 4, 4])"
      ]
     },
     "execution_count": 15,
     "metadata": {},
     "output_type": "execute_result"
    }
   ],
   "source": [
    "#Ordenar Arreglos\n",
    "matrizNumerosJuntos.sort()\n",
    "matrizNumerosJuntos"
   ]
  },
  {
   "cell_type": "code",
   "execution_count": null,
   "id": "c85442f6",
   "metadata": {},
   "outputs": [],
   "source": []
  }
 ],
 "metadata": {
  "kernelspec": {
   "display_name": "Python 3",
   "language": "python",
   "name": "python3"
  },
  "language_info": {
   "codemirror_mode": {
    "name": "ipython",
    "version": 3
   },
   "file_extension": ".py",
   "mimetype": "text/x-python",
   "name": "python",
   "nbconvert_exporter": "python",
   "pygments_lexer": "ipython3",
   "version": "3.6.13"
  }
 },
 "nbformat": 4,
 "nbformat_minor": 5
}

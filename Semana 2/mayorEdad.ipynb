{
 "cells": [
  {
   "cell_type": "code",
   "execution_count": 1,
   "id": "3acd4bce",
   "metadata": {},
   "outputs": [],
   "source": [
    "#Hagamos un programa que determine si eres mayor de edad o no."
   ]
  },
  {
   "cell_type": "code",
   "execution_count": 3,
   "id": "f211046c",
   "metadata": {},
   "outputs": [
    {
     "name": "stdout",
     "output_type": "stream",
     "text": [
      "Por favor escriba su edad en número entero20\n",
      "Es mayor de edad:  20\n"
     ]
    }
   ],
   "source": [
    "edad = int(input(\"Por favor escriba su edad en número entero\"))\n",
    "if edad >= 18 :\n",
    "   print(\"Es mayor de edad: \",edad)\n",
    "else: \n",
    "   print(\"Es menor de edad:\" ,edad)"
   ]
  },
  {
   "cell_type": "code",
   "execution_count": null,
   "id": "ec59fa4b",
   "metadata": {},
   "outputs": [],
   "source": []
  }
 ],
 "metadata": {
  "kernelspec": {
   "display_name": "Python 3",
   "language": "python",
   "name": "python3"
  },
  "language_info": {
   "codemirror_mode": {
    "name": "ipython",
    "version": 3
   },
   "file_extension": ".py",
   "mimetype": "text/x-python",
   "name": "python",
   "nbconvert_exporter": "python",
   "pygments_lexer": "ipython3",
   "version": "3.6.13"
  }
 },
 "nbformat": 4,
 "nbformat_minor": 5
}

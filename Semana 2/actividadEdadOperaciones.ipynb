{
 "cells": [
  {
   "cell_type": "code",
   "execution_count": 1,
   "id": "f4e8cc5a",
   "metadata": {},
   "outputs": [],
   "source": [
    "#El doble de mi edad tiene 24 años, ¿cuántos años tengo?"
   ]
  },
  {
   "cell_type": "code",
   "execution_count": 2,
   "id": "26fd6a93",
   "metadata": {},
   "outputs": [],
   "source": [
    "miEdad = 24/2"
   ]
  },
  {
   "cell_type": "code",
   "execution_count": 3,
   "id": "fa7a069f",
   "metadata": {},
   "outputs": [
    {
     "data": {
      "text/plain": [
       "12.0"
      ]
     },
     "execution_count": 3,
     "metadata": {},
     "output_type": "execute_result"
    }
   ],
   "source": [
    "miEdad"
   ]
  },
  {
   "cell_type": "code",
   "execution_count": 4,
   "id": "8f457836",
   "metadata": {},
   "outputs": [],
   "source": [
    "#A un tercio de la edad de mi hermana le disminuyo 15 años. Tengo 6 años. ¿Qué edad tiene?"
   ]
  },
  {
   "cell_type": "code",
   "execution_count": 5,
   "id": "8b89bc9a",
   "metadata": {},
   "outputs": [
    {
     "data": {
      "text/plain": [
       "63"
      ]
     },
     "execution_count": 5,
     "metadata": {},
     "output_type": "execute_result"
    }
   ],
   "source": [
    "edadHermana = (6+15)*3\n",
    "edadHermana"
   ]
  },
  {
   "cell_type": "code",
   "execution_count": 7,
   "id": "6ae06528",
   "metadata": {},
   "outputs": [
    {
     "name": "stdout",
     "output_type": "stream",
     "text": [
      "Mi hermana es mayor\n"
     ]
    }
   ],
   "source": [
    "if edadHermana > miEdad : \n",
    "  print(\"Mi hermana es mayor\")\n",
    "elif edadHermana < miEdad  :\n",
    "  print(\"Yo soy mayor\")\n",
    "else :\n",
    "  print(\"Tenemos la misma edad\")"
   ]
  },
  {
   "cell_type": "code",
   "execution_count": null,
   "id": "f27e4e3e",
   "metadata": {},
   "outputs": [],
   "source": []
  }
 ],
 "metadata": {
  "kernelspec": {
   "display_name": "Python 3",
   "language": "python",
   "name": "python3"
  },
  "language_info": {
   "codemirror_mode": {
    "name": "ipython",
    "version": 3
   },
   "file_extension": ".py",
   "mimetype": "text/x-python",
   "name": "python",
   "nbconvert_exporter": "python",
   "pygments_lexer": "ipython3",
   "version": "3.6.13"
  }
 },
 "nbformat": 4,
 "nbformat_minor": 5
}

{
 "cells": [
  {
   "cell_type": "code",
   "execution_count": 1,
   "id": "2c089029",
   "metadata": {},
   "outputs": [],
   "source": [
    "#Determinar si alguien es mayor de edad o no"
   ]
  },
  {
   "cell_type": "code",
   "execution_count": 2,
   "id": "97b19e6e",
   "metadata": {},
   "outputs": [],
   "source": [
    "edad1 = 16"
   ]
  },
  {
   "cell_type": "code",
   "execution_count": 3,
   "id": "0b0191b3",
   "metadata": {},
   "outputs": [],
   "source": [
    "edad2 = 20"
   ]
  },
  {
   "cell_type": "code",
   "execution_count": 9,
   "id": "cab5a511",
   "metadata": {},
   "outputs": [
    {
     "name": "stdout",
     "output_type": "stream",
     "text": [
      "No es mayor de edad\n"
     ]
    }
   ],
   "source": [
    "if(edad1 >= 18):\n",
    "    print(\"Es mayor de edad\")\n",
    "else:\n",
    "    print(\"No es mayor de edad\")"
   ]
  },
  {
   "cell_type": "code",
   "execution_count": 10,
   "id": "7e9efc45",
   "metadata": {},
   "outputs": [
    {
     "name": "stdout",
     "output_type": "stream",
     "text": [
      "Es mayor de edad\n"
     ]
    }
   ],
   "source": [
    "if(edad2 >= 18):\n",
    "    print(\"Es mayor de edad\")\n",
    "else:\n",
    "    print(\"No es mayor de edad\")"
   ]
  },
  {
   "cell_type": "code",
   "execution_count": null,
   "id": "4dd1582b",
   "metadata": {},
   "outputs": [],
   "source": []
  }
 ],
 "metadata": {
  "kernelspec": {
   "display_name": "Python 3",
   "language": "python",
   "name": "python3"
  },
  "language_info": {
   "codemirror_mode": {
    "name": "ipython",
    "version": 3
   },
   "file_extension": ".py",
   "mimetype": "text/x-python",
   "name": "python",
   "nbconvert_exporter": "python",
   "pygments_lexer": "ipython3",
   "version": "3.6.13"
  }
 },
 "nbformat": 4,
 "nbformat_minor": 5
}

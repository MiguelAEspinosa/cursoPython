{
 "cells": [
  {
   "cell_type": "code",
   "execution_count": 1,
   "id": "8ae0b31d",
   "metadata": {},
   "outputs": [],
   "source": [
    "#Import numpy"
   ]
  },
  {
   "cell_type": "code",
   "execution_count": 2,
   "id": "e3530a2f",
   "metadata": {},
   "outputs": [],
   "source": [
    "import numpy as np"
   ]
  },
  {
   "cell_type": "code",
   "execution_count": 3,
   "id": "499eb57a",
   "metadata": {},
   "outputs": [],
   "source": [
    "#Crear una matriz 3x3 con valores de 0 a 8\n",
    "matriz = np.reshape(np.arange(0,9),(3,3))"
   ]
  },
  {
   "cell_type": "code",
   "execution_count": 4,
   "id": "c14b93d5",
   "metadata": {},
   "outputs": [
    {
     "data": {
      "text/plain": [
       "array([[0, 1, 2],\n",
       "       [3, 4, 5],\n",
       "       [6, 7, 8]])"
      ]
     },
     "execution_count": 4,
     "metadata": {},
     "output_type": "execute_result"
    }
   ],
   "source": [
    "matriz"
   ]
  },
  {
   "cell_type": "code",
   "execution_count": null,
   "id": "c00a5d2f",
   "metadata": {},
   "outputs": [],
   "source": []
  }
 ],
 "metadata": {
  "kernelspec": {
   "display_name": "Python 3",
   "language": "python",
   "name": "python3"
  },
  "language_info": {
   "codemirror_mode": {
    "name": "ipython",
    "version": 3
   },
   "file_extension": ".py",
   "mimetype": "text/x-python",
   "name": "python",
   "nbconvert_exporter": "python",
   "pygments_lexer": "ipython3",
   "version": "3.6.13"
  }
 },
 "nbformat": 4,
 "nbformat_minor": 5
}

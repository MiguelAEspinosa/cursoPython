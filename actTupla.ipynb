{
 "cells": [
  {
   "cell_type": "markdown",
   "id": "2f958bee",
   "metadata": {},
   "source": [
    "# Actividad Tupla"
   ]
  },
  {
   "cell_type": "code",
   "execution_count": 1,
   "id": "a8976b5c",
   "metadata": {},
   "outputs": [],
   "source": [
    "#Creacion de una tupla"
   ]
  },
  {
   "cell_type": "code",
   "execution_count": 2,
   "id": "b8c914da",
   "metadata": {},
   "outputs": [],
   "source": [
    "tupla = (25,\"Miguel Espinosa\",7.6,\"Actividad 4\",9)"
   ]
  },
  {
   "cell_type": "code",
   "execution_count": 3,
   "id": "ae369b98",
   "metadata": {},
   "outputs": [],
   "source": [
    "#Validamos que sea una tupla"
   ]
  },
  {
   "cell_type": "code",
   "execution_count": 5,
   "id": "dddc6e89",
   "metadata": {},
   "outputs": [
    {
     "data": {
      "text/plain": [
       "tuple"
      ]
     },
     "execution_count": 5,
     "metadata": {},
     "output_type": "execute_result"
    }
   ],
   "source": [
    "type(tupla)"
   ]
  },
  {
   "cell_type": "code",
   "execution_count": 6,
   "id": "e08ef23a",
   "metadata": {},
   "outputs": [],
   "source": [
    "#Convertimos la tupla a lista"
   ]
  },
  {
   "cell_type": "code",
   "execution_count": 7,
   "id": "14c57b07",
   "metadata": {},
   "outputs": [],
   "source": [
    "listaTupla = list(tupla)"
   ]
  },
  {
   "cell_type": "code",
   "execution_count": 8,
   "id": "3d07a9ab",
   "metadata": {},
   "outputs": [],
   "source": [
    "#Validamos que sea una lista"
   ]
  },
  {
   "cell_type": "code",
   "execution_count": 9,
   "id": "e8bfb057",
   "metadata": {},
   "outputs": [
    {
     "data": {
      "text/plain": [
       "list"
      ]
     },
     "execution_count": 9,
     "metadata": {},
     "output_type": "execute_result"
    }
   ],
   "source": [
    "type(listaTupla)"
   ]
  },
  {
   "cell_type": "code",
   "execution_count": 10,
   "id": "db2d7a6e",
   "metadata": {},
   "outputs": [],
   "source": [
    "#Crear un diccionario donde la clave sea del 1 al 5 y los elementos los datos de la lista"
   ]
  },
  {
   "cell_type": "code",
   "execution_count": 11,
   "id": "afdaaf77",
   "metadata": {},
   "outputs": [],
   "source": [
    "#Creamos una lista con los datos del 1 al 5"
   ]
  },
  {
   "cell_type": "code",
   "execution_count": 12,
   "id": "833ba77b",
   "metadata": {},
   "outputs": [],
   "source": [
    "listaNumeros = (1,2,3,4,5)"
   ]
  },
  {
   "cell_type": "code",
   "execution_count": 13,
   "id": "0f9cde41",
   "metadata": {},
   "outputs": [],
   "source": [
    "#Creamos el diccionario "
   ]
  },
  {
   "cell_type": "code",
   "execution_count": 14,
   "id": "b3f8e386",
   "metadata": {},
   "outputs": [],
   "source": [
    "diccionario = {listaNumeros[0]:listaTupla[0],listaNumeros[1]:listaTupla[1],listaNumeros[2]:listaTupla[2],listaNumeros[3]:listaTupla[3],listaNumeros[4]:listaTupla[4]}"
   ]
  },
  {
   "cell_type": "code",
   "execution_count": 15,
   "id": "50b8281c",
   "metadata": {},
   "outputs": [
    {
     "data": {
      "text/plain": [
       "{1: 25, 2: 'Miguel Espinosa', 3: 7.6, 4: 'Actividad 4', 5: 9}"
      ]
     },
     "execution_count": 15,
     "metadata": {},
     "output_type": "execute_result"
    }
   ],
   "source": [
    "diccionario"
   ]
  },
  {
   "cell_type": "code",
   "execution_count": null,
   "id": "52b11163",
   "metadata": {},
   "outputs": [],
   "source": []
  }
 ],
 "metadata": {
  "kernelspec": {
   "display_name": "Python 3",
   "language": "python",
   "name": "python3"
  },
  "language_info": {
   "codemirror_mode": {
    "name": "ipython",
    "version": 3
   },
   "file_extension": ".py",
   "mimetype": "text/x-python",
   "name": "python",
   "nbconvert_exporter": "python",
   "pygments_lexer": "ipython3",
   "version": "3.6.13"
  }
 },
 "nbformat": 4,
 "nbformat_minor": 5
}

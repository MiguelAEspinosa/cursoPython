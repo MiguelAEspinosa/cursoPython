{
 "cells": [
  {
   "cell_type": "code",
   "execution_count": 4,
   "id": "88bf7bf8",
   "metadata": {},
   "outputs": [],
   "source": [
    "#Obtener la diferencia entre el salario más alto y el más bajo.\n",
    "import numpy as np\n",
    "import pandas as pd"
   ]
  },
  {
   "cell_type": "code",
   "execution_count": 5,
   "id": "75873e72",
   "metadata": {},
   "outputs": [],
   "source": [
    "dict1 = {\n",
    "    \"Nombre\":[\"Miguel\",\"Luis\",\"Eduardo\",\"Jorge\",\"Lorena\",\"Lizbeth\",\"Karla\",\"Yadira\"],\n",
    "    \"Edad\" : [28,25,29,29,21,23,29,24],\n",
    "    \"Salario\": [13000,10000,21000,14500,12000,29000,16000,5000],\n",
    "    \"Genero\": [\"M\",\"M\",\"M\",\"M\",\"F\",\"F\",\"F\",\"F\"]\n",
    "}\n",
    "data=pd.DataFrame(dict1)"
   ]
  },
  {
   "cell_type": "code",
   "execution_count": 6,
   "id": "ac264b2b",
   "metadata": {},
   "outputs": [
    {
     "data": {
      "text/html": [
       "<div>\n",
       "<style scoped>\n",
       "    .dataframe tbody tr th:only-of-type {\n",
       "        vertical-align: middle;\n",
       "    }\n",
       "\n",
       "    .dataframe tbody tr th {\n",
       "        vertical-align: top;\n",
       "    }\n",
       "\n",
       "    .dataframe thead th {\n",
       "        text-align: right;\n",
       "    }\n",
       "</style>\n",
       "<table border=\"1\" class=\"dataframe\">\n",
       "  <thead>\n",
       "    <tr style=\"text-align: right;\">\n",
       "      <th></th>\n",
       "      <th>Nombre</th>\n",
       "      <th>Edad</th>\n",
       "      <th>Salario</th>\n",
       "      <th>Genero</th>\n",
       "    </tr>\n",
       "  </thead>\n",
       "  <tbody>\n",
       "    <tr>\n",
       "      <th>0</th>\n",
       "      <td>Miguel</td>\n",
       "      <td>28</td>\n",
       "      <td>13000</td>\n",
       "      <td>M</td>\n",
       "    </tr>\n",
       "    <tr>\n",
       "      <th>1</th>\n",
       "      <td>Luis</td>\n",
       "      <td>25</td>\n",
       "      <td>10000</td>\n",
       "      <td>M</td>\n",
       "    </tr>\n",
       "    <tr>\n",
       "      <th>2</th>\n",
       "      <td>Eduardo</td>\n",
       "      <td>29</td>\n",
       "      <td>21000</td>\n",
       "      <td>M</td>\n",
       "    </tr>\n",
       "    <tr>\n",
       "      <th>3</th>\n",
       "      <td>Jorge</td>\n",
       "      <td>29</td>\n",
       "      <td>14500</td>\n",
       "      <td>M</td>\n",
       "    </tr>\n",
       "    <tr>\n",
       "      <th>4</th>\n",
       "      <td>Lorena</td>\n",
       "      <td>21</td>\n",
       "      <td>12000</td>\n",
       "      <td>F</td>\n",
       "    </tr>\n",
       "    <tr>\n",
       "      <th>5</th>\n",
       "      <td>Lizbeth</td>\n",
       "      <td>23</td>\n",
       "      <td>29000</td>\n",
       "      <td>F</td>\n",
       "    </tr>\n",
       "    <tr>\n",
       "      <th>6</th>\n",
       "      <td>Karla</td>\n",
       "      <td>29</td>\n",
       "      <td>16000</td>\n",
       "      <td>F</td>\n",
       "    </tr>\n",
       "    <tr>\n",
       "      <th>7</th>\n",
       "      <td>Yadira</td>\n",
       "      <td>24</td>\n",
       "      <td>5000</td>\n",
       "      <td>F</td>\n",
       "    </tr>\n",
       "  </tbody>\n",
       "</table>\n",
       "</div>"
      ],
      "text/plain": [
       "    Nombre  Edad  Salario Genero\n",
       "0   Miguel    28    13000      M\n",
       "1     Luis    25    10000      M\n",
       "2  Eduardo    29    21000      M\n",
       "3    Jorge    29    14500      M\n",
       "4   Lorena    21    12000      F\n",
       "5  Lizbeth    23    29000      F\n",
       "6    Karla    29    16000      F\n",
       "7   Yadira    24     5000      F"
      ]
     },
     "execution_count": 6,
     "metadata": {},
     "output_type": "execute_result"
    }
   ],
   "source": [
    "data"
   ]
  },
  {
   "cell_type": "code",
   "execution_count": 7,
   "id": "b027cfbd",
   "metadata": {},
   "outputs": [
    {
     "data": {
      "text/plain": [
       "5000"
      ]
     },
     "execution_count": 7,
     "metadata": {},
     "output_type": "execute_result"
    }
   ],
   "source": [
    "salarioMinimo = data[\"Salario\"].min()\n",
    "salarioMinimo"
   ]
  },
  {
   "cell_type": "code",
   "execution_count": 8,
   "id": "c88ae7bc",
   "metadata": {},
   "outputs": [
    {
     "data": {
      "text/plain": [
       "29000"
      ]
     },
     "execution_count": 8,
     "metadata": {},
     "output_type": "execute_result"
    }
   ],
   "source": [
    "salarioMaximo = data[\"Salario\"].max()\n",
    "salarioMaximo"
   ]
  },
  {
   "cell_type": "code",
   "execution_count": 9,
   "id": "6241bf18",
   "metadata": {},
   "outputs": [
    {
     "data": {
      "text/plain": [
       "24000"
      ]
     },
     "execution_count": 9,
     "metadata": {},
     "output_type": "execute_result"
    }
   ],
   "source": [
    "difSalario = salarioMaximo - salarioMinimo\n",
    "difSalario"
   ]
  },
  {
   "cell_type": "code",
   "execution_count": 10,
   "id": "fed8d97f",
   "metadata": {},
   "outputs": [
    {
     "data": {
      "text/html": [
       "<div>\n",
       "<style scoped>\n",
       "    .dataframe tbody tr th:only-of-type {\n",
       "        vertical-align: middle;\n",
       "    }\n",
       "\n",
       "    .dataframe tbody tr th {\n",
       "        vertical-align: top;\n",
       "    }\n",
       "\n",
       "    .dataframe thead th {\n",
       "        text-align: right;\n",
       "    }\n",
       "</style>\n",
       "<table border=\"1\" class=\"dataframe\">\n",
       "  <thead>\n",
       "    <tr style=\"text-align: right;\">\n",
       "      <th></th>\n",
       "      <th>Edad</th>\n",
       "      <th>Salario</th>\n",
       "    </tr>\n",
       "  </thead>\n",
       "  <tbody>\n",
       "    <tr>\n",
       "      <th>count</th>\n",
       "      <td>8.000000</td>\n",
       "      <td>8.000000</td>\n",
       "    </tr>\n",
       "    <tr>\n",
       "      <th>mean</th>\n",
       "      <td>26.000000</td>\n",
       "      <td>15062.500000</td>\n",
       "    </tr>\n",
       "    <tr>\n",
       "      <th>std</th>\n",
       "      <td>3.162278</td>\n",
       "      <td>7282.255832</td>\n",
       "    </tr>\n",
       "    <tr>\n",
       "      <th>min</th>\n",
       "      <td>21.000000</td>\n",
       "      <td>5000.000000</td>\n",
       "    </tr>\n",
       "    <tr>\n",
       "      <th>25%</th>\n",
       "      <td>23.750000</td>\n",
       "      <td>11500.000000</td>\n",
       "    </tr>\n",
       "    <tr>\n",
       "      <th>50%</th>\n",
       "      <td>26.500000</td>\n",
       "      <td>13750.000000</td>\n",
       "    </tr>\n",
       "    <tr>\n",
       "      <th>75%</th>\n",
       "      <td>29.000000</td>\n",
       "      <td>17250.000000</td>\n",
       "    </tr>\n",
       "    <tr>\n",
       "      <th>max</th>\n",
       "      <td>29.000000</td>\n",
       "      <td>29000.000000</td>\n",
       "    </tr>\n",
       "  </tbody>\n",
       "</table>\n",
       "</div>"
      ],
      "text/plain": [
       "            Edad       Salario\n",
       "count   8.000000      8.000000\n",
       "mean   26.000000  15062.500000\n",
       "std     3.162278   7282.255832\n",
       "min    21.000000   5000.000000\n",
       "25%    23.750000  11500.000000\n",
       "50%    26.500000  13750.000000\n",
       "75%    29.000000  17250.000000\n",
       "max    29.000000  29000.000000"
      ]
     },
     "execution_count": 10,
     "metadata": {},
     "output_type": "execute_result"
    }
   ],
   "source": [
    "#Obtener los estadísticos descriptivos de los salarios. (media, mediana, desviación estándar, etc..\n",
    "data.describe()"
   ]
  },
  {
   "cell_type": "code",
   "execution_count": 11,
   "id": "81620563",
   "metadata": {},
   "outputs": [
    {
     "data": {
      "text/plain": [
       "count        8.000000\n",
       "mean     15062.500000\n",
       "std       7282.255832\n",
       "min       5000.000000\n",
       "25%      11500.000000\n",
       "50%      13750.000000\n",
       "75%      17250.000000\n",
       "max      29000.000000\n",
       "Name: Salario, dtype: float64"
      ]
     },
     "execution_count": 11,
     "metadata": {},
     "output_type": "execute_result"
    }
   ],
   "source": [
    "data[\"Salario\"].describe()"
   ]
  },
  {
   "cell_type": "code",
   "execution_count": 12,
   "id": "268173e7",
   "metadata": {},
   "outputs": [
    {
     "data": {
      "text/plain": [
       "15062.5"
      ]
     },
     "execution_count": 12,
     "metadata": {},
     "output_type": "execute_result"
    }
   ],
   "source": [
    "#Media de Salario\n",
    "data[\"Salario\"].mean()"
   ]
  },
  {
   "cell_type": "code",
   "execution_count": 13,
   "id": "d1fa5509",
   "metadata": {},
   "outputs": [
    {
     "data": {
      "text/plain": [
       "13750.0"
      ]
     },
     "execution_count": 13,
     "metadata": {},
     "output_type": "execute_result"
    }
   ],
   "source": [
    "#Mediana de Salario\n",
    "data[\"Salario\"].median()"
   ]
  },
  {
   "cell_type": "code",
   "execution_count": 14,
   "id": "4a85fbf0",
   "metadata": {},
   "outputs": [
    {
     "data": {
      "text/plain": [
       "7282.255831814754"
      ]
     },
     "execution_count": 14,
     "metadata": {},
     "output_type": "execute_result"
    }
   ],
   "source": [
    "#Desviación estandar de salario\n",
    "data[\"Salario\"].std()"
   ]
  },
  {
   "cell_type": "code",
   "execution_count": 15,
   "id": "a18f9a6b",
   "metadata": {},
   "outputs": [
    {
     "data": {
      "text/plain": [
       "0     13000\n",
       "1     23000\n",
       "2     44000\n",
       "3     58500\n",
       "4     70500\n",
       "5     99500\n",
       "6    115500\n",
       "7    120500\n",
       "Name: Salario, dtype: int64"
      ]
     },
     "execution_count": 15,
     "metadata": {},
     "output_type": "execute_result"
    }
   ],
   "source": [
    "#Suma cumulativa de salario\n",
    "data[\"Salario\"].cumsum()"
   ]
  },
  {
   "cell_type": "code",
   "execution_count": null,
   "id": "dbf96e79",
   "metadata": {},
   "outputs": [],
   "source": []
  }
 ],
 "metadata": {
  "kernelspec": {
   "display_name": "Python 3",
   "language": "python",
   "name": "python3"
  },
  "language_info": {
   "codemirror_mode": {
    "name": "ipython",
    "version": 3
   },
   "file_extension": ".py",
   "mimetype": "text/x-python",
   "name": "python",
   "nbconvert_exporter": "python",
   "pygments_lexer": "ipython3",
   "version": "3.6.13"
  }
 },
 "nbformat": 4,
 "nbformat_minor": 5
}

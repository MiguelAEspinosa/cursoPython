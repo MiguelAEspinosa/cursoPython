{
 "cells": [
  {
   "cell_type": "code",
   "execution_count": 7,
   "id": "eb1686f3",
   "metadata": {},
   "outputs": [
    {
     "name": "stdout",
     "output_type": "stream",
     "text": [
      "Numero 1:  10\n",
      "Numero 2:  5\n",
      "El resultado de la suma es:  15\n",
      "Numero 1:  11\n",
      "Numero 2:  3\n",
      "El resultado de la resta es:  8\n",
      "Numero 1:  15\n",
      "Numero 2:  5\n",
      "El resultado de la multiplicacion es:  75\n",
      "Numero 1:  8\n",
      "Numero 2:  3\n",
      "El resultado de la suma es:  2.6666666666666665\n",
      "Numero 1:  12\n",
      "Numero 2:  0\n",
      "No se puede dividir entre 0\n"
     ]
    }
   ],
   "source": [
    "# Crear una calculadora con al menos 4 operaciones básicas definiendo una clase \"calculadora\" y dentro de esta las operaciones\n",
    "#Crear clase calculadora\n",
    "class Calculadora:\n",
    "    #Crear función sumar,restar,multiplicar y dividir dentro de la clase calculadora con los parametros (self, primer numero, segundo numero)\n",
    "    def sumar(self,x1,x2):\n",
    "        print(\"Numero 1: \" , x1)\n",
    "        print(\"Numero 2: \" , x2)\n",
    "        print(\"El resultado de la suma es: \", x1 + x2)\n",
    "        \n",
    "    def restar(self,x1,x2):\n",
    "        print(\"Numero 1: \" , x1)\n",
    "        print(\"Numero 2: \" , x2)\n",
    "        print(\"El resultado de la resta es: \", x1 - x2)\n",
    "        \n",
    "    def multiplicar(self,x1,x2):\n",
    "        print(\"Numero 1: \" , x1)\n",
    "        print(\"Numero 2: \" , x2)\n",
    "        print(\"El resultado de la multiplicacion es: \", x1 * x2)\n",
    "        \n",
    "    def dividir(self,x1,x2):\n",
    "        print(\"Numero 1: \" , x1)\n",
    "        print(\"Numero 2: \" , x2)\n",
    "        if(x2 == 0):\n",
    "         print(\"No se puede dividir entre 0\")\n",
    "        else:\n",
    "         print(\"El resultado de la suma es: \", x1 / x2)\n",
    "\n",
    "calculadora = Calculadora()\n",
    "calculadora.sumar(10,5)\n",
    "calculadora.restar(11,3)\n",
    "calculadora.multiplicar(15,5)\n",
    "calculadora.dividir(8,3)\n",
    "calculadora.dividir(12,0)"
   ]
  },
  {
   "cell_type": "code",
   "execution_count": null,
   "id": "4846b848",
   "metadata": {},
   "outputs": [],
   "source": []
  }
 ],
 "metadata": {
  "kernelspec": {
   "display_name": "Python 3",
   "language": "python",
   "name": "python3"
  },
  "language_info": {
   "codemirror_mode": {
    "name": "ipython",
    "version": 3
   },
   "file_extension": ".py",
   "mimetype": "text/x-python",
   "name": "python",
   "nbconvert_exporter": "python",
   "pygments_lexer": "ipython3",
   "version": "3.6.13"
  }
 },
 "nbformat": 4,
 "nbformat_minor": 5
}
